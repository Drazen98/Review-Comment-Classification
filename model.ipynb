{
 "cells": [
  {
   "cell_type": "code",
   "execution_count": 1,
   "id": "X-Udbq6HOES9",
   "metadata": {
    "colab": {
     "base_uri": "https://localhost:8080/"
    },
    "executionInfo": {
     "elapsed": 9112,
     "status": "ok",
     "timestamp": 1624458533029,
     "user": {
      "displayName": "Antonio Vidakovic",
      "photoUrl": "",
      "userId": "13949433846202004139"
     },
     "user_tz": -120
    },
    "id": "X-Udbq6HOES9",
    "outputId": "1ffdf6bb-e64e-4e8d-96c5-9123f5f2c38e"
   },
   "outputs": [
    {
     "name": "stdout",
     "output_type": "stream",
     "text": [
      "Requirement already satisfied: tensorflow in /usr/local/lib/python3.7/dist-packages (2.5.0)\n",
      "Requirement already satisfied: tensorboard~=2.5 in /usr/local/lib/python3.7/dist-packages (from tensorflow) (2.5.0)\n",
      "Requirement already satisfied: numpy~=1.19.2 in /usr/local/lib/python3.7/dist-packages (from tensorflow) (1.19.5)\n",
      "Requirement already satisfied: absl-py~=0.10 in /usr/local/lib/python3.7/dist-packages (from tensorflow) (0.12.0)\n",
      "Requirement already satisfied: flatbuffers~=1.12.0 in /usr/local/lib/python3.7/dist-packages (from tensorflow) (1.12)\n",
      "Requirement already satisfied: gast==0.4.0 in /usr/local/lib/python3.7/dist-packages (from tensorflow) (0.4.0)\n",
      "Requirement already satisfied: astunparse~=1.6.3 in /usr/local/lib/python3.7/dist-packages (from tensorflow) (1.6.3)\n",
      "Requirement already satisfied: tensorflow-estimator<2.6.0,>=2.5.0rc0 in /usr/local/lib/python3.7/dist-packages (from tensorflow) (2.5.0)\n",
      "Requirement already satisfied: opt-einsum~=3.3.0 in /usr/local/lib/python3.7/dist-packages (from tensorflow) (3.3.0)\n",
      "Requirement already satisfied: keras-nightly~=2.5.0.dev in /usr/local/lib/python3.7/dist-packages (from tensorflow) (2.5.0.dev2021032900)\n",
      "Requirement already satisfied: google-pasta~=0.2 in /usr/local/lib/python3.7/dist-packages (from tensorflow) (0.2.0)\n",
      "Requirement already satisfied: keras-preprocessing~=1.1.2 in /usr/local/lib/python3.7/dist-packages (from tensorflow) (1.1.2)\n",
      "Requirement already satisfied: six~=1.15.0 in /usr/local/lib/python3.7/dist-packages (from tensorflow) (1.15.0)\n",
      "Requirement already satisfied: h5py~=3.1.0 in /usr/local/lib/python3.7/dist-packages (from tensorflow) (3.1.0)\n",
      "Requirement already satisfied: termcolor~=1.1.0 in /usr/local/lib/python3.7/dist-packages (from tensorflow) (1.1.0)\n",
      "Requirement already satisfied: typing-extensions~=3.7.4 in /usr/local/lib/python3.7/dist-packages (from tensorflow) (3.7.4.3)\n",
      "Requirement already satisfied: grpcio~=1.34.0 in /usr/local/lib/python3.7/dist-packages (from tensorflow) (1.34.1)\n",
      "Requirement already satisfied: wrapt~=1.12.1 in /usr/local/lib/python3.7/dist-packages (from tensorflow) (1.12.1)\n",
      "Requirement already satisfied: wheel~=0.35 in /usr/local/lib/python3.7/dist-packages (from tensorflow) (0.36.2)\n",
      "Requirement already satisfied: protobuf>=3.9.2 in /usr/local/lib/python3.7/dist-packages (from tensorflow) (3.12.4)\n",
      "Requirement already satisfied: setuptools>=41.0.0 in /usr/local/lib/python3.7/dist-packages (from tensorboard~=2.5->tensorflow) (57.0.0)\n",
      "Requirement already satisfied: google-auth-oauthlib<0.5,>=0.4.1 in /usr/local/lib/python3.7/dist-packages (from tensorboard~=2.5->tensorflow) (0.4.4)\n",
      "Requirement already satisfied: tensorboard-data-server<0.7.0,>=0.6.0 in /usr/local/lib/python3.7/dist-packages (from tensorboard~=2.5->tensorflow) (0.6.1)\n",
      "Requirement already satisfied: google-auth<2,>=1.6.3 in /usr/local/lib/python3.7/dist-packages (from tensorboard~=2.5->tensorflow) (1.31.0)\n",
      "Requirement already satisfied: requests<3,>=2.21.0 in /usr/local/lib/python3.7/dist-packages (from tensorboard~=2.5->tensorflow) (2.23.0)\n",
      "Requirement already satisfied: markdown>=2.6.8 in /usr/local/lib/python3.7/dist-packages (from tensorboard~=2.5->tensorflow) (3.3.4)\n",
      "Requirement already satisfied: tensorboard-plugin-wit>=1.6.0 in /usr/local/lib/python3.7/dist-packages (from tensorboard~=2.5->tensorflow) (1.8.0)\n",
      "Requirement already satisfied: werkzeug>=0.11.15 in /usr/local/lib/python3.7/dist-packages (from tensorboard~=2.5->tensorflow) (1.0.1)\n",
      "Requirement already satisfied: cached-property; python_version < \"3.8\" in /usr/local/lib/python3.7/dist-packages (from h5py~=3.1.0->tensorflow) (1.5.2)\n",
      "Requirement already satisfied: requests-oauthlib>=0.7.0 in /usr/local/lib/python3.7/dist-packages (from google-auth-oauthlib<0.5,>=0.4.1->tensorboard~=2.5->tensorflow) (1.3.0)\n",
      "Requirement already satisfied: cachetools<5.0,>=2.0.0 in /usr/local/lib/python3.7/dist-packages (from google-auth<2,>=1.6.3->tensorboard~=2.5->tensorflow) (4.2.2)\n",
      "Requirement already satisfied: rsa<5,>=3.1.4; python_version >= \"3.6\" in /usr/local/lib/python3.7/dist-packages (from google-auth<2,>=1.6.3->tensorboard~=2.5->tensorflow) (4.7.2)\n",
      "Requirement already satisfied: pyasn1-modules>=0.2.1 in /usr/local/lib/python3.7/dist-packages (from google-auth<2,>=1.6.3->tensorboard~=2.5->tensorflow) (0.2.8)\n",
      "Requirement already satisfied: idna<3,>=2.5 in /usr/local/lib/python3.7/dist-packages (from requests<3,>=2.21.0->tensorboard~=2.5->tensorflow) (2.10)\n",
      "Requirement already satisfied: chardet<4,>=3.0.2 in /usr/local/lib/python3.7/dist-packages (from requests<3,>=2.21.0->tensorboard~=2.5->tensorflow) (3.0.4)\n",
      "Requirement already satisfied: urllib3!=1.25.0,!=1.25.1,<1.26,>=1.21.1 in /usr/local/lib/python3.7/dist-packages (from requests<3,>=2.21.0->tensorboard~=2.5->tensorflow) (1.24.3)\n",
      "Requirement already satisfied: certifi>=2017.4.17 in /usr/local/lib/python3.7/dist-packages (from requests<3,>=2.21.0->tensorboard~=2.5->tensorflow) (2021.5.30)\n",
      "Requirement already satisfied: importlib-metadata; python_version < \"3.8\" in /usr/local/lib/python3.7/dist-packages (from markdown>=2.6.8->tensorboard~=2.5->tensorflow) (4.5.0)\n",
      "Requirement already satisfied: oauthlib>=3.0.0 in /usr/local/lib/python3.7/dist-packages (from requests-oauthlib>=0.7.0->google-auth-oauthlib<0.5,>=0.4.1->tensorboard~=2.5->tensorflow) (3.1.1)\n",
      "Requirement already satisfied: pyasn1>=0.1.3 in /usr/local/lib/python3.7/dist-packages (from rsa<5,>=3.1.4; python_version >= \"3.6\"->google-auth<2,>=1.6.3->tensorboard~=2.5->tensorflow) (0.4.8)\n",
      "Requirement already satisfied: zipp>=0.5 in /usr/local/lib/python3.7/dist-packages (from importlib-metadata; python_version < \"3.8\"->markdown>=2.6.8->tensorboard~=2.5->tensorflow) (3.4.1)\n",
      "Collecting pytorch-pretrained-bert\n",
      "\u001b[?25l  Downloading https://files.pythonhosted.org/packages/d7/e0/c08d5553b89973d9a240605b9c12404bcf8227590de62bae27acbcfe076b/pytorch_pretrained_bert-0.6.2-py3-none-any.whl (123kB)\n",
      "\u001b[K     |████████████████████████████████| 133kB 7.0MB/s \n",
      "\u001b[?25hCollecting pytorch-nlp\n",
      "\u001b[?25l  Downloading https://files.pythonhosted.org/packages/4f/51/f0ee1efb75f7cc2e3065c5da1363d6be2eec79691b2821594f3f2329528c/pytorch_nlp-0.5.0-py3-none-any.whl (90kB)\n",
      "\u001b[K     |████████████████████████████████| 92kB 6.5MB/s \n",
      "\u001b[?25hRequirement already satisfied: regex in /usr/local/lib/python3.7/dist-packages (from pytorch-pretrained-bert) (2019.12.20)\n",
      "Collecting boto3\n",
      "\u001b[?25l  Downloading https://files.pythonhosted.org/packages/07/23/6b13608421ad2a6666b8ee64c301bcf9704123ef6b4579e6d362859e70c0/boto3-1.17.98-py2.py3-none-any.whl (131kB)\n",
      "\u001b[K     |████████████████████████████████| 133kB 11.1MB/s \n",
      "\u001b[?25hRequirement already satisfied: requests in /usr/local/lib/python3.7/dist-packages (from pytorch-pretrained-bert) (2.23.0)\n",
      "Requirement already satisfied: tqdm in /usr/local/lib/python3.7/dist-packages (from pytorch-pretrained-bert) (4.41.1)\n",
      "Requirement already satisfied: torch>=0.4.1 in /usr/local/lib/python3.7/dist-packages (from pytorch-pretrained-bert) (1.9.0+cu102)\n",
      "Requirement already satisfied: numpy in /usr/local/lib/python3.7/dist-packages (from pytorch-pretrained-bert) (1.19.5)\n",
      "Collecting botocore<1.21.0,>=1.20.98\n",
      "\u001b[?25l  Downloading https://files.pythonhosted.org/packages/b2/1e/89106f14481e638c9397f533dde55b31d2ba4eeb6f3911f7d35fdf233127/botocore-1.20.98-py2.py3-none-any.whl (7.6MB)\n",
      "\u001b[K     |████████████████████████████████| 7.6MB 13.5MB/s \n",
      "\u001b[?25hCollecting jmespath<1.0.0,>=0.7.1\n",
      "  Downloading https://files.pythonhosted.org/packages/07/cb/5f001272b6faeb23c1c9e0acc04d48eaaf5c862c17709d20e3469c6e0139/jmespath-0.10.0-py2.py3-none-any.whl\n",
      "Collecting s3transfer<0.5.0,>=0.4.0\n",
      "\u001b[?25l  Downloading https://files.pythonhosted.org/packages/63/d0/693477c688348654ddc21dcdce0817653a294aa43f41771084c25e7ff9c7/s3transfer-0.4.2-py2.py3-none-any.whl (79kB)\n",
      "\u001b[K     |████████████████████████████████| 81kB 11.2MB/s \n",
      "\u001b[?25hRequirement already satisfied: urllib3!=1.25.0,!=1.25.1,<1.26,>=1.21.1 in /usr/local/lib/python3.7/dist-packages (from requests->pytorch-pretrained-bert) (1.24.3)\n",
      "Requirement already satisfied: chardet<4,>=3.0.2 in /usr/local/lib/python3.7/dist-packages (from requests->pytorch-pretrained-bert) (3.0.4)\n",
      "Requirement already satisfied: certifi>=2017.4.17 in /usr/local/lib/python3.7/dist-packages (from requests->pytorch-pretrained-bert) (2021.5.30)\n",
      "Requirement already satisfied: idna<3,>=2.5 in /usr/local/lib/python3.7/dist-packages (from requests->pytorch-pretrained-bert) (2.10)\n",
      "Requirement already satisfied: typing-extensions in /usr/local/lib/python3.7/dist-packages (from torch>=0.4.1->pytorch-pretrained-bert) (3.7.4.3)\n",
      "Requirement already satisfied: python-dateutil<3.0.0,>=2.1 in /usr/local/lib/python3.7/dist-packages (from botocore<1.21.0,>=1.20.98->boto3->pytorch-pretrained-bert) (2.8.1)\n",
      "Requirement already satisfied: six>=1.5 in /usr/local/lib/python3.7/dist-packages (from python-dateutil<3.0.0,>=2.1->botocore<1.21.0,>=1.20.98->boto3->pytorch-pretrained-bert) (1.15.0)\n",
      "\u001b[31mERROR: botocore 1.20.98 has requirement urllib3<1.27,>=1.25.4, but you'll have urllib3 1.24.3 which is incompatible.\u001b[0m\n",
      "Installing collected packages: jmespath, botocore, s3transfer, boto3, pytorch-pretrained-bert, pytorch-nlp\n",
      "Successfully installed boto3-1.17.98 botocore-1.20.98 jmespath-0.10.0 pytorch-nlp-0.5.0 pytorch-pretrained-bert-0.6.2 s3transfer-0.4.2\n"
     ]
    }
   ],
   "source": [
    "!pip install tensorflow\n",
    "!pip install pytorch-pretrained-bert pytorch-nlp"
   ]
  },
  {
   "cell_type": "code",
   "execution_count": 2,
   "id": "6k4_XNgcPXSu",
   "metadata": {
    "colab": {
     "base_uri": "https://localhost:8080/"
    },
    "executionInfo": {
     "elapsed": 15636,
     "status": "ok",
     "timestamp": 1624458548658,
     "user": {
      "displayName": "Antonio Vidakovic",
      "photoUrl": "",
      "userId": "13949433846202004139"
     },
     "user_tz": -120
    },
    "id": "6k4_XNgcPXSu",
    "outputId": "c33328d4-fc75-4f45-a83d-3484d8fa1cc0"
   },
   "outputs": [
    {
     "name": "stdout",
     "output_type": "stream",
     "text": [
      "Mounted at /content/drive\n"
     ]
    }
   ],
   "source": [
    "from google.colab import drive\n",
    "drive.mount('/content/drive')"
   ]
  },
  {
   "cell_type": "code",
   "execution_count": 3,
   "id": "OwNNvGX2PiG0",
   "metadata": {
    "colab": {
     "base_uri": "https://localhost:8080/"
    },
    "executionInfo": {
     "elapsed": 584,
     "status": "ok",
     "timestamp": 1624458550966,
     "user": {
      "displayName": "Antonio Vidakovic",
      "photoUrl": "",
      "userId": "13949433846202004139"
     },
     "user_tz": -120
    },
    "id": "OwNNvGX2PiG0",
    "outputId": "73523d26-2916-488b-8871-431bdc3e20a8"
   },
   "outputs": [
    {
     "name": "stdout",
     "output_type": "stream",
     "text": [
      "/content/drive/.shortcut-targets-by-id/1_HOFTh3kL_Lx9q7fsvFqh10MNFprRWJx/jezikProjektFinished\n"
     ]
    }
   ],
   "source": [
    "%cd ../content/drive/MyDrive/Colab\\ Notebooks/jezikProjektFinished"
   ]
  },
  {
   "cell_type": "code",
   "execution_count": 4,
   "id": "KHQ1I5wjmpy3",
   "metadata": {
    "executionInfo": {
     "elapsed": 580,
     "status": "ok",
     "timestamp": 1624458553588,
     "user": {
      "displayName": "Antonio Vidakovic",
      "photoUrl": "",
      "userId": "13949433846202004139"
     },
     "user_tz": -120
    },
    "id": "KHQ1I5wjmpy3"
   },
   "outputs": [],
   "source": [
    "outputModelFile = \"./model/projektModelFile.bin\"\n",
    "outputConfigFile = \"./model/projektConfigFile.bin\""
   ]
  },
  {
   "cell_type": "code",
   "execution_count": 5,
   "id": "EZnP2tW0mm98",
   "metadata": {
    "executionInfo": {
     "elapsed": 5,
     "status": "ok",
     "timestamp": 1624458555883,
     "user": {
      "displayName": "Antonio Vidakovic",
      "photoUrl": "",
      "userId": "13949433846202004139"
     },
     "user_tz": -120
    },
    "id": "EZnP2tW0mm98"
   },
   "outputs": [],
   "source": [
    "# Dražen\n",
    "def saveModel(model, outputModelFile, outputConfigFile):\n",
    "  tokenizer = BertTokenizer.from_pretrained('bert-base-uncased', do_lower_case=True)\n",
    "\n",
    "  modelToSave = model.module if hasattr(model, 'module') else model\n",
    "  torch.save(modelToSave.state_dict(), outputModelFile)\n",
    "  modelToSave.config.to_json_file(outputConfigFile)"
   ]
  },
  {
   "cell_type": "code",
   "execution_count": 6,
   "id": "Tn8szwMTmmBk",
   "metadata": {
    "executionInfo": {
     "elapsed": 4,
     "status": "ok",
     "timestamp": 1624458558314,
     "user": {
      "displayName": "Antonio Vidakovic",
      "photoUrl": "",
      "userId": "13949433846202004139"
     },
     "user_tz": -120
    },
    "id": "Tn8szwMTmmBk"
   },
   "outputs": [],
   "source": [
    "# Dražen\n",
    "def loadModel(outputModelFile, outputConfigFile):\n",
    "  config = BertConfig.from_json_file(outputConfigFile)\n",
    "  model = BertForSequenceClassification(config, num_labels=3)\n",
    "  stateDict = torch.load(outputModelFile)\n",
    "  model.load_state_dict(stateDict)\n",
    "  return model"
   ]
  },
  {
   "cell_type": "code",
   "execution_count": 7,
   "id": "adaptive-shape",
   "metadata": {
    "executionInfo": {
     "elapsed": 7018,
     "status": "ok",
     "timestamp": 1624458567072,
     "user": {
      "displayName": "Antonio Vidakovic",
      "photoUrl": "",
      "userId": "13949433846202004139"
     },
     "user_tz": -120
    },
    "id": "adaptive-shape"
   },
   "outputs": [],
   "source": [
    "import pandas as pd\n",
    "import numpy as np\n",
    "import tensorflow as tf\n",
    "from tensorflow.python.client import device_lib\n",
    "import torch\n",
    "from torch.utils.data import TensorDataset, DataLoader, RandomSampler, SequentialSampler\n",
    "from keras.preprocessing.sequence import pad_sequences\n",
    "from sklearn.model_selection import train_test_split\n",
    "from pytorch_pretrained_bert import BertModel\n",
    "from pytorch_pretrained_bert import BertTokenizer, BertConfig\n",
    "from pytorch_pretrained_bert import BertAdam, BertForSequenceClassification\n",
    "from tqdm import tqdm, trange\n",
    "import pandas as pd\n",
    "import io\n",
    "import numpy as np\n",
    "import matplotlib.pyplot as plt\n",
    "from sklearn.metrics import confusion_matrix\n",
    "import seaborn as sn\n",
    "import ipywidgets as widgets\n",
    "from ipywidgets import Layout\n",
    "from IPython.display import display"
   ]
  },
  {
   "cell_type": "code",
   "execution_count": 8,
   "id": "SzbdsuvSMChn",
   "metadata": {
    "colab": {
     "base_uri": "https://localhost:8080/"
    },
    "executionInfo": {
     "elapsed": 722,
     "status": "ok",
     "timestamp": 1624458567789,
     "user": {
      "displayName": "Antonio Vidakovic",
      "photoUrl": "",
      "userId": "13949433846202004139"
     },
     "user_tz": -120
    },
    "id": "SzbdsuvSMChn",
    "outputId": "cdfc7206-ff5b-47c7-8df6-e3a66aefb97f"
   },
   "outputs": [
    {
     "name": "stderr",
     "output_type": "stream",
     "text": [
      "100%|██████████| 231508/231508 [00:00<00:00, 897273.41B/s]\n"
     ]
    }
   ],
   "source": [
    "bertTokenizer = BertTokenizer.from_pretrained('bert-base-uncased', do_lower_case=True)"
   ]
  },
  {
   "cell_type": "code",
   "execution_count": 9,
   "id": "BeYtegelJl4o",
   "metadata": {
    "executionInfo": {
     "elapsed": 18,
     "status": "ok",
     "timestamp": 1624458567791,
     "user": {
      "displayName": "Antonio Vidakovic",
      "photoUrl": "",
      "userId": "13949433846202004139"
     },
     "user_tz": -120
    },
    "id": "BeYtegelJl4o"
   },
   "outputs": [],
   "source": [
    "# Antonio\n",
    "def extractData(path):\n",
    "    dataFile = pd.read_csv(path, encoding = \"ISO-8859-1\").to_numpy()\n",
    "    positiveList = [x for x in dataFile[:,1] if type(x)==str]\n",
    "    neutralList = [x for x in dataFile[:,2] if type(x)==str]\n",
    "    negativeList = [x for x in dataFile[:,3] if type(x)==str]\n",
    "    labels = [0 for x in positiveList] + [1 for x in neutralList] + [2 for x in negativeList]\n",
    "    allSentences = positiveList + neutralList + negativeList\n",
    "    return allSentences, labels\n"
   ]
  },
  {
   "cell_type": "code",
   "execution_count": 10,
   "id": "cAzQOocBJ1rl",
   "metadata": {
    "executionInfo": {
     "elapsed": 16,
     "status": "ok",
     "timestamp": 1624458567791,
     "user": {
      "displayName": "Antonio Vidakovic",
      "photoUrl": "",
      "userId": "13949433846202004139"
     },
     "user_tz": -120
    },
    "id": "cAzQOocBJ1rl"
   },
   "outputs": [],
   "source": [
    "# Dražen\n",
    "def addBertTokensToSent(sent):\n",
    "  return \"[CLS] \" + sent + \" [SEP]\""
   ]
  },
  {
   "cell_type": "code",
   "execution_count": 11,
   "id": "m7JnmxG4LCxI",
   "metadata": {
    "executionInfo": {
     "elapsed": 15,
     "status": "ok",
     "timestamp": 1624458567792,
     "user": {
      "displayName": "Antonio Vidakovic",
      "photoUrl": "",
      "userId": "13949433846202004139"
     },
     "user_tz": -120
    },
    "id": "m7JnmxG4LCxI"
   },
   "outputs": [],
   "source": [
    "# Dražen\n",
    "def tokenizer(allSentences):\n",
    "  tokenizedSentences =  [bertTokenizer.tokenize(addBertTokensToSent(sent)) for sent in allSentences]\n",
    "\n",
    "  return tokenizedSentences"
   ]
  },
  {
   "cell_type": "code",
   "execution_count": 12,
   "id": "rtaQRquxOEDj",
   "metadata": {
    "executionInfo": {
     "elapsed": 14,
     "status": "ok",
     "timestamp": 1624458567793,
     "user": {
      "displayName": "Antonio Vidakovic",
      "photoUrl": "",
      "userId": "13949433846202004139"
     },
     "user_tz": -120
    },
    "id": "rtaQRquxOEDj"
   },
   "outputs": [],
   "source": [
    "# Dražen\n",
    "def padding(maxLen, tokenizedText):\n",
    "  inputForModel = pad_sequences([bertTokenizer.convert_tokens_to_ids(t) for t in tokenizedText], maxlen=maxLen, dtype=\"long\", truncating=\"post\", padding=\"post\")\n",
    "  inputForModel = [bertTokenizer.convert_tokens_to_ids(t) for t in tokenizedText]\n",
    "  inputForModel = pad_sequences(inputForModel, maxlen=maxLen, dtype=\"long\", truncating=\"post\", padding=\"post\")\n",
    "  \n",
    "  return inputForModel"
   ]
  },
  {
   "cell_type": "code",
   "execution_count": 13,
   "id": "nemlYYfuMKmz",
   "metadata": {
    "executionInfo": {
     "elapsed": 14,
     "status": "ok",
     "timestamp": 1624458567794,
     "user": {
      "displayName": "Antonio Vidakovic",
      "photoUrl": "",
      "userId": "13949433846202004139"
     },
     "user_tz": -120
    },
    "id": "nemlYYfuMKmz"
   },
   "outputs": [],
   "source": [
    "# Antonio\n",
    "def ejectingIndexes(tokenizedTexts, labels):\n",
    "  ejectingIndexes = [i for i in range(len(tokenizedTexts)) if len(tokenizedTexts[i])<=512]\n",
    "  newTokenizedTexts = [tokenizedTexts[i] for i in ejectingIndexes]\n",
    "  newLabels = [labels[i] for i in ejectingIndexes]\n",
    "  \n",
    "  return newTokenizedTexts, newLabels"
   ]
  },
  {
   "cell_type": "code",
   "execution_count": 14,
   "id": "TRJyCmcTPoET",
   "metadata": {
    "executionInfo": {
     "elapsed": 14,
     "status": "ok",
     "timestamp": 1624458567795,
     "user": {
      "displayName": "Antonio Vidakovic",
      "photoUrl": "",
      "userId": "13949433846202004139"
     },
     "user_tz": -120
    },
    "id": "TRJyCmcTPoET"
   },
   "outputs": [],
   "source": [
    "# Antonio\n",
    "def createAttentionMask(modelInput):\n",
    "  attentionMasks = []\n",
    "  for s in modelInput:\n",
    "    seqMask = [float(i>0) for i in s]\n",
    "    attentionMasks.append(seqMask)\n",
    "  \n",
    "  return attentionMasks"
   ]
  },
  {
   "cell_type": "code",
   "execution_count": 15,
   "id": "IaP0U4bJO4Fe",
   "metadata": {
    "colab": {
     "base_uri": "https://localhost:8080/",
     "height": 36
    },
    "executionInfo": {
     "elapsed": 12,
     "status": "ok",
     "timestamp": 1624458569298,
     "user": {
      "displayName": "Antonio Vidakovic",
      "photoUrl": "",
      "userId": "13949433846202004139"
     },
     "user_tz": -120
    },
    "id": "IaP0U4bJO4Fe",
    "outputId": "37d28f95-5839-41c8-e612-2e3601e60669"
   },
   "outputs": [
    {
     "data": {
      "application/vnd.google.colaboratory.intrinsic+json": {
       "type": "string"
      },
      "text/plain": [
       "'Tesla T4'"
      ]
     },
     "execution_count": 15,
     "metadata": {
      "tags": []
     },
     "output_type": "execute_result"
    }
   ],
   "source": [
    "device = torch.device(\"cuda\" if torch.cuda.is_available() else \"cpu\")\n",
    "torch.cuda.get_device_name(0)"
   ]
  },
  {
   "cell_type": "code",
   "execution_count": 16,
   "id": "rnsq8pZYUukA",
   "metadata": {
    "executionInfo": {
     "elapsed": 12149,
     "status": "ok",
     "timestamp": 1624458582450,
     "user": {
      "displayName": "Antonio Vidakovic",
      "photoUrl": "",
      "userId": "13949433846202004139"
     },
     "user_tz": -120
    },
    "id": "rnsq8pZYUukA"
   },
   "outputs": [],
   "source": [
    "# Dražen\n",
    "batchSize = 64\n",
    "maxLen = 128\n",
    "numberOfEpoches = 7\n",
    "learningRate = 2e-5\n",
    "testSize = 0.1\n",
    "seed = 1927\n",
    "\n",
    "path = \"translatedData.csv\"\n",
    "allSentences, labels = extractData(path)\n",
    "tokenizedText = tokenizer(allSentences)\n",
    "tokenizedText, labels = ejectingIndexes(tokenizedText, labels)\n",
    "modelInput = padding(maxLen, tokenizedText)\n",
    "attentionMasks = createAttentionMask(modelInput)\n",
    "\n",
    "trainInputs, testInputs, trainLabels, testLabels = train_test_split(modelInput, labels, random_state=seed, test_size=testSize)\n",
    "trainMasks, testMasks, _, _ = train_test_split(attentionMasks, modelInput, random_state=seed, test_size=testSize)\n",
    "\n",
    "trainInputs = torch.tensor(trainInputs)\n",
    "testInputs = torch.tensor(testInputs)\n",
    "trainLabels = torch.tensor(trainLabels)\n",
    "testLabels = torch.tensor(testLabels)\n",
    "trainMasks = torch.tensor(trainMasks)\n",
    "testMasks = torch.tensor(testMasks)\n",
    "\n",
    "trainData = TensorDataset(trainInputs, trainMasks, trainLabels)\n",
    "trainSampler = RandomSampler(trainData)\n",
    "trainDataLoader = DataLoader(trainData, sampler=trainSampler, batch_size=batchSize)\n",
    "testData = TensorDataset(testInputs, testMasks, testLabels)\n",
    "testSampler = SequentialSampler(testData)\n",
    "testDatalLoader = DataLoader(testData, sampler=testSampler, batch_size=batchSize)"
   ]
  },
  {
   "cell_type": "code",
   "execution_count": 17,
   "id": "88LaITo0T66L",
   "metadata": {
    "executionInfo": {
     "elapsed": 23,
     "status": "ok",
     "timestamp": 1624458582455,
     "user": {
      "displayName": "Antonio Vidakovic",
      "photoUrl": "",
      "userId": "13949433846202004139"
     },
     "user_tz": -120
    },
    "id": "88LaITo0T66L"
   },
   "outputs": [],
   "source": [
    "# Antonio\n",
    "def printSentimentDistribution():\n",
    "  plt.hist(['positive' for x in labels if x==0]+['neutral' for x in labels if x==1]+['negative' for x in labels if x==2])\n",
    "  plt.xlabel('sentiment')\n",
    "  plt.ylabel('number of reviews')\n",
    "  plt.title('sentiment distribution')\n",
    "  plt.xticks(np.arange(len(np.unique(labels))))\n",
    "  plt.show()"
   ]
  },
  {
   "cell_type": "code",
   "execution_count": null,
   "id": "VfhuZ4v_XxnZ",
   "metadata": {
    "colab": {
     "base_uri": "https://localhost:8080/",
     "height": 295
    },
    "executionInfo": {
     "elapsed": 19,
     "status": "ok",
     "timestamp": 1624452173982,
     "user": {
      "displayName": "Dražen Šokčević",
      "photoUrl": "",
      "userId": "14950619309649638420"
     },
     "user_tz": -120
    },
    "id": "VfhuZ4v_XxnZ",
    "outputId": "4bef5508-6705-447f-d602-22ca725beb7f"
   },
   "outputs": [
    {
     "data": {
      "image/png": "[encoded data removed]",
      "text/plain": [
       "<Figure size 432x288 with 1 Axes>"
      ]
     },
     "metadata": {
      "needs_background": "light",
      "tags": []
     },
     "output_type": "display_data"
    }
   ],
   "source": [
    "# Antonio\n",
    "printSentimentDistribution()"
   ]
  },
  {
   "cell_type": "code",
   "execution_count": 18,
   "id": "Svc5VEBY2oKW",
   "metadata": {
    "colab": {
     "base_uri": "https://localhost:8080/"
    },
    "executionInfo": {
     "elapsed": 19049,
     "status": "ok",
     "timestamp": 1624458601488,
     "user": {
      "displayName": "Antonio Vidakovic",
      "photoUrl": "",
      "userId": "13949433846202004139"
     },
     "user_tz": -120
    },
    "id": "Svc5VEBY2oKW",
    "outputId": "63f84ae1-dea5-4bb3-8ce6-7f75d97ccf7d"
   },
   "outputs": [
    {
     "data": {
      "text/plain": [
       "BertForSequenceClassification(\n",
       "  (bert): BertModel(\n",
       "    (embeddings): BertEmbeddings(\n",
       "      (word_embeddings): Embedding(30522, 768, padding_idx=0)\n",
       "      (position_embeddings): Embedding(512, 768)\n",
       "      (token_type_embeddings): Embedding(2, 768)\n",
       "      (LayerNorm): BertLayerNorm()\n",
       "      (dropout): Dropout(p=0.1, inplace=False)\n",
       "    )\n",
       "    (encoder): BertEncoder(\n",
       "      (layer): ModuleList(\n",
       "        (0): BertLayer(\n",
       "          (attention): BertAttention(\n",
       "            (self): BertSelfAttention(\n",
       "              (query): Linear(in_features=768, out_features=768, bias=True)\n",
       "              (key): Linear(in_features=768, out_features=768, bias=True)\n",
       "              (value): Linear(in_features=768, out_features=768, bias=True)\n",
       "              (dropout): Dropout(p=0.1, inplace=False)\n",
       "            )\n",
       "            (output): BertSelfOutput(\n",
       "              (dense): Linear(in_features=768, out_features=768, bias=True)\n",
       "              (LayerNorm): BertLayerNorm()\n",
       "              (dropout): Dropout(p=0.1, inplace=False)\n",
       "            )\n",
       "          )\n",
       "          (intermediate): BertIntermediate(\n",
       "            (dense): Linear(in_features=768, out_features=3072, bias=True)\n",
       "          )\n",
       "          (output): BertOutput(\n",
       "            (dense): Linear(in_features=3072, out_features=768, bias=True)\n",
       "            (LayerNorm): BertLayerNorm()\n",
       "            (dropout): Dropout(p=0.1, inplace=False)\n",
       "          )\n",
       "        )\n",
       "        (1): BertLayer(\n",
       "          (attention): BertAttention(\n",
       "            (self): BertSelfAttention(\n",
       "              (query): Linear(in_features=768, out_features=768, bias=True)\n",
       "              (key): Linear(in_features=768, out_features=768, bias=True)\n",
       "              (value): Linear(in_features=768, out_features=768, bias=True)\n",
       "              (dropout): Dropout(p=0.1, inplace=False)\n",
       "            )\n",
       "            (output): BertSelfOutput(\n",
       "              (dense): Linear(in_features=768, out_features=768, bias=True)\n",
       "              (LayerNorm): BertLayerNorm()\n",
       "              (dropout): Dropout(p=0.1, inplace=False)\n",
       "            )\n",
       "          )\n",
       "          (intermediate): BertIntermediate(\n",
       "            (dense): Linear(in_features=768, out_features=3072, bias=True)\n",
       "          )\n",
       "          (output): BertOutput(\n",
       "            (dense): Linear(in_features=3072, out_features=768, bias=True)\n",
       "            (LayerNorm): BertLayerNorm()\n",
       "            (dropout): Dropout(p=0.1, inplace=False)\n",
       "          )\n",
       "        )\n",
       "        (2): BertLayer(\n",
       "          (attention): BertAttention(\n",
       "            (self): BertSelfAttention(\n",
       "              (query): Linear(in_features=768, out_features=768, bias=True)\n",
       "              (key): Linear(in_features=768, out_features=768, bias=True)\n",
       "              (value): Linear(in_features=768, out_features=768, bias=True)\n",
       "              (dropout): Dropout(p=0.1, inplace=False)\n",
       "            )\n",
       "            (output): BertSelfOutput(\n",
       "              (dense): Linear(in_features=768, out_features=768, bias=True)\n",
       "              (LayerNorm): BertLayerNorm()\n",
       "              (dropout): Dropout(p=0.1, inplace=False)\n",
       "            )\n",
       "          )\n",
       "          (intermediate): BertIntermediate(\n",
       "            (dense): Linear(in_features=768, out_features=3072, bias=True)\n",
       "          )\n",
       "          (output): BertOutput(\n",
       "            (dense): Linear(in_features=3072, out_features=768, bias=True)\n",
       "            (LayerNorm): BertLayerNorm()\n",
       "            (dropout): Dropout(p=0.1, inplace=False)\n",
       "          )\n",
       "        )\n",
       "        (3): BertLayer(\n",
       "          (attention): BertAttention(\n",
       "            (self): BertSelfAttention(\n",
       "              (query): Linear(in_features=768, out_features=768, bias=True)\n",
       "              (key): Linear(in_features=768, out_features=768, bias=True)\n",
       "              (value): Linear(in_features=768, out_features=768, bias=True)\n",
       "              (dropout): Dropout(p=0.1, inplace=False)\n",
       "            )\n",
       "            (output): BertSelfOutput(\n",
       "              (dense): Linear(in_features=768, out_features=768, bias=True)\n",
       "              (LayerNorm): BertLayerNorm()\n",
       "              (dropout): Dropout(p=0.1, inplace=False)\n",
       "            )\n",
       "          )\n",
       "          (intermediate): BertIntermediate(\n",
       "            (dense): Linear(in_features=768, out_features=3072, bias=True)\n",
       "          )\n",
       "          (output): BertOutput(\n",
       "            (dense): Linear(in_features=3072, out_features=768, bias=True)\n",
       "            (LayerNorm): BertLayerNorm()\n",
       "            (dropout): Dropout(p=0.1, inplace=False)\n",
       "          )\n",
       "        )\n",
       "        (4): BertLayer(\n",
       "          (attention): BertAttention(\n",
       "            (self): BertSelfAttention(\n",
       "              (query): Linear(in_features=768, out_features=768, bias=True)\n",
       "              (key): Linear(in_features=768, out_features=768, bias=True)\n",
       "              (value): Linear(in_features=768, out_features=768, bias=True)\n",
       "              (dropout): Dropout(p=0.1, inplace=False)\n",
       "            )\n",
       "            (output): BertSelfOutput(\n",
       "              (dense): Linear(in_features=768, out_features=768, bias=True)\n",
       "              (LayerNorm): BertLayerNorm()\n",
       "              (dropout): Dropout(p=0.1, inplace=False)\n",
       "            )\n",
       "          )\n",
       "          (intermediate): BertIntermediate(\n",
       "            (dense): Linear(in_features=768, out_features=3072, bias=True)\n",
       "          )\n",
       "          (output): BertOutput(\n",
       "            (dense): Linear(in_features=3072, out_features=768, bias=True)\n",
       "            (LayerNorm): BertLayerNorm()\n",
       "            (dropout): Dropout(p=0.1, inplace=False)\n",
       "          )\n",
       "        )\n",
       "        (5): BertLayer(\n",
       "          (attention): BertAttention(\n",
       "            (self): BertSelfAttention(\n",
       "              (query): Linear(in_features=768, out_features=768, bias=True)\n",
       "              (key): Linear(in_features=768, out_features=768, bias=True)\n",
       "              (value): Linear(in_features=768, out_features=768, bias=True)\n",
       "              (dropout): Dropout(p=0.1, inplace=False)\n",
       "            )\n",
       "            (output): BertSelfOutput(\n",
       "              (dense): Linear(in_features=768, out_features=768, bias=True)\n",
       "              (LayerNorm): BertLayerNorm()\n",
       "              (dropout): Dropout(p=0.1, inplace=False)\n",
       "            )\n",
       "          )\n",
       "          (intermediate): BertIntermediate(\n",
       "            (dense): Linear(in_features=768, out_features=3072, bias=True)\n",
       "          )\n",
       "          (output): BertOutput(\n",
       "            (dense): Linear(in_features=3072, out_features=768, bias=True)\n",
       "            (LayerNorm): BertLayerNorm()\n",
       "            (dropout): Dropout(p=0.1, inplace=False)\n",
       "          )\n",
       "        )\n",
       "        (6): BertLayer(\n",
       "          (attention): BertAttention(\n",
       "            (self): BertSelfAttention(\n",
       "              (query): Linear(in_features=768, out_features=768, bias=True)\n",
       "              (key): Linear(in_features=768, out_features=768, bias=True)\n",
       "              (value): Linear(in_features=768, out_features=768, bias=True)\n",
       "              (dropout): Dropout(p=0.1, inplace=False)\n",
       "            )\n",
       "            (output): BertSelfOutput(\n",
       "              (dense): Linear(in_features=768, out_features=768, bias=True)\n",
       "              (LayerNorm): BertLayerNorm()\n",
       "              (dropout): Dropout(p=0.1, inplace=False)\n",
       "            )\n",
       "          )\n",
       "          (intermediate): BertIntermediate(\n",
       "            (dense): Linear(in_features=768, out_features=3072, bias=True)\n",
       "          )\n",
       "          (output): BertOutput(\n",
       "            (dense): Linear(in_features=3072, out_features=768, bias=True)\n",
       "            (LayerNorm): BertLayerNorm()\n",
       "            (dropout): Dropout(p=0.1, inplace=False)\n",
       "          )\n",
       "        )\n",
       "        (7): BertLayer(\n",
       "          (attention): BertAttention(\n",
       "            (self): BertSelfAttention(\n",
       "              (query): Linear(in_features=768, out_features=768, bias=True)\n",
       "              (key): Linear(in_features=768, out_features=768, bias=True)\n",
       "              (value): Linear(in_features=768, out_features=768, bias=True)\n",
       "              (dropout): Dropout(p=0.1, inplace=False)\n",
       "            )\n",
       "            (output): BertSelfOutput(\n",
       "              (dense): Linear(in_features=768, out_features=768, bias=True)\n",
       "              (LayerNorm): BertLayerNorm()\n",
       "              (dropout): Dropout(p=0.1, inplace=False)\n",
       "            )\n",
       "          )\n",
       "          (intermediate): BertIntermediate(\n",
       "            (dense): Linear(in_features=768, out_features=3072, bias=True)\n",
       "          )\n",
       "          (output): BertOutput(\n",
       "            (dense): Linear(in_features=3072, out_features=768, bias=True)\n",
       "            (LayerNorm): BertLayerNorm()\n",
       "            (dropout): Dropout(p=0.1, inplace=False)\n",
       "          )\n",
       "        )\n",
       "        (8): BertLayer(\n",
       "          (attention): BertAttention(\n",
       "            (self): BertSelfAttention(\n",
       "              (query): Linear(in_features=768, out_features=768, bias=True)\n",
       "              (key): Linear(in_features=768, out_features=768, bias=True)\n",
       "              (value): Linear(in_features=768, out_features=768, bias=True)\n",
       "              (dropout): Dropout(p=0.1, inplace=False)\n",
       "            )\n",
       "            (output): BertSelfOutput(\n",
       "              (dense): Linear(in_features=768, out_features=768, bias=True)\n",
       "              (LayerNorm): BertLayerNorm()\n",
       "              (dropout): Dropout(p=0.1, inplace=False)\n",
       "            )\n",
       "          )\n",
       "          (intermediate): BertIntermediate(\n",
       "            (dense): Linear(in_features=768, out_features=3072, bias=True)\n",
       "          )\n",
       "          (output): BertOutput(\n",
       "            (dense): Linear(in_features=3072, out_features=768, bias=True)\n",
       "            (LayerNorm): BertLayerNorm()\n",
       "            (dropout): Dropout(p=0.1, inplace=False)\n",
       "          )\n",
       "        )\n",
       "        (9): BertLayer(\n",
       "          (attention): BertAttention(\n",
       "            (self): BertSelfAttention(\n",
       "              (query): Linear(in_features=768, out_features=768, bias=True)\n",
       "              (key): Linear(in_features=768, out_features=768, bias=True)\n",
       "              (value): Linear(in_features=768, out_features=768, bias=True)\n",
       "              (dropout): Dropout(p=0.1, inplace=False)\n",
       "            )\n",
       "            (output): BertSelfOutput(\n",
       "              (dense): Linear(in_features=768, out_features=768, bias=True)\n",
       "              (LayerNorm): BertLayerNorm()\n",
       "              (dropout): Dropout(p=0.1, inplace=False)\n",
       "            )\n",
       "          )\n",
       "          (intermediate): BertIntermediate(\n",
       "            (dense): Linear(in_features=768, out_features=3072, bias=True)\n",
       "          )\n",
       "          (output): BertOutput(\n",
       "            (dense): Linear(in_features=3072, out_features=768, bias=True)\n",
       "            (LayerNorm): BertLayerNorm()\n",
       "            (dropout): Dropout(p=0.1, inplace=False)\n",
       "          )\n",
       "        )\n",
       "        (10): BertLayer(\n",
       "          (attention): BertAttention(\n",
       "            (self): BertSelfAttention(\n",
       "              (query): Linear(in_features=768, out_features=768, bias=True)\n",
       "              (key): Linear(in_features=768, out_features=768, bias=True)\n",
       "              (value): Linear(in_features=768, out_features=768, bias=True)\n",
       "              (dropout): Dropout(p=0.1, inplace=False)\n",
       "            )\n",
       "            (output): BertSelfOutput(\n",
       "              (dense): Linear(in_features=768, out_features=768, bias=True)\n",
       "              (LayerNorm): BertLayerNorm()\n",
       "              (dropout): Dropout(p=0.1, inplace=False)\n",
       "            )\n",
       "          )\n",
       "          (intermediate): BertIntermediate(\n",
       "            (dense): Linear(in_features=768, out_features=3072, bias=True)\n",
       "          )\n",
       "          (output): BertOutput(\n",
       "            (dense): Linear(in_features=3072, out_features=768, bias=True)\n",
       "            (LayerNorm): BertLayerNorm()\n",
       "            (dropout): Dropout(p=0.1, inplace=False)\n",
       "          )\n",
       "        )\n",
       "        (11): BertLayer(\n",
       "          (attention): BertAttention(\n",
       "            (self): BertSelfAttention(\n",
       "              (query): Linear(in_features=768, out_features=768, bias=True)\n",
       "              (key): Linear(in_features=768, out_features=768, bias=True)\n",
       "              (value): Linear(in_features=768, out_features=768, bias=True)\n",
       "              (dropout): Dropout(p=0.1, inplace=False)\n",
       "            )\n",
       "            (output): BertSelfOutput(\n",
       "              (dense): Linear(in_features=768, out_features=768, bias=True)\n",
       "              (LayerNorm): BertLayerNorm()\n",
       "              (dropout): Dropout(p=0.1, inplace=False)\n",
       "            )\n",
       "          )\n",
       "          (intermediate): BertIntermediate(\n",
       "            (dense): Linear(in_features=768, out_features=3072, bias=True)\n",
       "          )\n",
       "          (output): BertOutput(\n",
       "            (dense): Linear(in_features=3072, out_features=768, bias=True)\n",
       "            (LayerNorm): BertLayerNorm()\n",
       "            (dropout): Dropout(p=0.1, inplace=False)\n",
       "          )\n",
       "        )\n",
       "      )\n",
       "    )\n",
       "    (pooler): BertPooler(\n",
       "      (dense): Linear(in_features=768, out_features=768, bias=True)\n",
       "      (activation): Tanh()\n",
       "    )\n",
       "  )\n",
       "  (dropout): Dropout(p=0.1, inplace=False)\n",
       "  (classifier): Linear(in_features=768, out_features=3, bias=True)\n",
       ")"
      ]
     },
     "execution_count": 18,
     "metadata": {
      "tags": []
     },
     "output_type": "execute_result"
    }
   ],
   "source": [
    "# Antonio\n",
    "try:\n",
    "  model = loadModel(outputModelFile, outputConfigFile)\n",
    "except:\n",
    "  model = BertForSequenceClassification.from_pretrained(\"bert-base-uncased\", num_labels=3)\n",
    "\n",
    "model.cuda()"
   ]
  },
  {
   "cell_type": "code",
   "execution_count": 19,
   "id": "F5W1dfdkAs3W",
   "metadata": {
    "executionInfo": {
     "elapsed": 10,
     "status": "ok",
     "timestamp": 1624458601490,
     "user": {
      "displayName": "Antonio Vidakovic",
      "photoUrl": "",
      "userId": "13949433846202004139"
     },
     "user_tz": -120
    },
    "id": "F5W1dfdkAs3W"
   },
   "outputs": [],
   "source": [
    "# Antonio\n",
    "def accuracy(predictions, labels):\n",
    "    predFlat = np.argmax(predictions, axis=1).flatten()\n",
    "    labelsFlat = labels.flatten()\n",
    "    \n",
    "    return np.sum(predFlat == labelsFlat) / len(labelsFlat)"
   ]
  },
  {
   "cell_type": "code",
   "execution_count": null,
   "id": "6wSjzrGlAS91",
   "metadata": {
    "id": "6wSjzrGlAS91"
   },
   "outputs": [],
   "source": [
    "# Dražen\n",
    "def train(model, learningRate, epochNumber):\n",
    "  paramOptimizer = list(model.named_parameters())\n",
    "  no_decay = ['bias', 'gamma', 'beta']\n",
    "  optimizerGroupedParameters = [\n",
    "    {'params': [p for n, p in paramOptimizer if not any(nd in n for nd in no_decay)],\n",
    "     'weight_decay_rate': 0.01},\n",
    "    {'params': [p for n, p in paramOptimizer if any(nd in n for nd in no_decay)],\n",
    "     'weight_decay_rate': 0.0}\n",
    "  ]\n",
    "\n",
    "  optimizer = BertAdam(optimizerGroupedParameters, lr=learningRate, warmup=0.1)\n",
    "  trainLossSet = []\n",
    "  for i in tqdm(range(epochNumber), desc=\"Epoch\"):\n",
    "    model.train()\n",
    "    trainLoss, examplesNumber, stepsNumber = 0, 0, 0 \n",
    "    \n",
    "    for step, batch in enumerate(trainDataLoader):\n",
    "      batch = tuple(b.to(device) for b in batch)\n",
    "      batchInput, batchInputMask, batchLabels = batch\n",
    "      optimizer.zero_grad()\n",
    "      loss = model(batchInput, token_type_ids=None, attention_mask=batchInputMask, labels=batchLabels)\n",
    "      trainLossSet.append(loss.item())\n",
    "      loss.backward()\n",
    "      optimizer.step()\n",
    "      trainLoss += loss.item()\n",
    "      examplesNumber += batchInput.size(0)\n",
    "      stepsNumber += 1\n",
    "    print(\"Train loss: {}\".format(trainLoss/stepsNumber))\n",
    "      \n",
    "    model.eval()\n",
    "    testLoss, testAccuracy,testExamplesNumber, testStepsNumber,  = 0, 0, 0, 0 \n",
    " \n",
    "    for batch in testDatalLoader:\n",
    "      batch = tuple(b.to(device) for b in batch)\n",
    "      batchInput, batchInputMask, batchLabels = batch\n",
    "      with torch.no_grad():\n",
    "        logits = model(batchInput, token_type_ids=None, attention_mask=batchInputMask)    \n",
    "      logits = logits.detach().cpu().numpy()\n",
    "      outLabel = batchLabels.to('cpu').numpy()\n",
    "      stepAccuracy = accuracy(logits, outLabel)    \n",
    "      testAccuracy += stepAccuracy\n",
    "      testStepsNumber += 1\n",
    "    print(\"Validation Accuracy: {}\".format(testAccuracy/testStepsNumber))\n",
    "\n",
    "  plt.figure(figsize=(15,8))\n",
    "  plt.title(\"Training loss\")\n",
    "  plt.xlabel(\"Batch\")\n",
    "  plt.ylabel(\"Loss\")\n",
    "  plt.plot(trainLossSet)\n",
    "  plt.show()\n"
   ]
  },
  {
   "cell_type": "code",
   "execution_count": null,
   "id": "d-akMeTMF6F8",
   "metadata": {
    "colab": {
     "base_uri": "https://localhost:8080/",
     "height": 870
    },
    "executionInfo": {
     "elapsed": 4911302,
     "status": "ok",
     "timestamp": 1624377221625,
     "user": {
      "displayName": "Dražen Šokčević",
      "photoUrl": "",
      "userId": "14950619309649638420"
     },
     "user_tz": -120
    },
    "id": "d-akMeTMF6F8",
    "outputId": "4d3e3b27-670f-4074-a827-888bb03d9909"
   },
   "outputs": [
    {
     "name": "stderr",
     "output_type": "stream",
     "text": [
      "t_total value of -1 results in schedule not being applied\n",
      "Epoch:   0%|          | 0/7 [00:00<?, ?it/s]/usr/local/lib/python3.7/dist-packages/pytorch_pretrained_bert/optimization.py:275: UserWarning: This overload of add_ is deprecated:\n",
      "\tadd_(Number alpha, Tensor other)\n",
      "Consider using one of the following signatures instead:\n",
      "\tadd_(Tensor other, *, Number alpha) (Triggered internally at  /pytorch/torch/csrc/utils/python_arg_parser.cpp:1025.)\n",
      "  next_m.mul_(beta1).add_(1 - beta1, grad)\n"
     ]
    },
    {
     "name": "stdout",
     "output_type": "stream",
     "text": [
      "Train loss: 0.6785003724397641\n"
     ]
    },
    {
     "name": "stderr",
     "output_type": "stream",
     "text": [
      "\r",
      "Epoch:  14%|█▍        | 1/7 [11:32<1:09:14, 692.39s/it]"
     ]
    },
    {
     "name": "stdout",
     "output_type": "stream",
     "text": [
      "Validation Accuracy: 0.7181784247853676\n",
      "Train loss: 0.5336371522520391\n"
     ]
    },
    {
     "name": "stderr",
     "output_type": "stream",
     "text": [
      "\r",
      "Epoch:  29%|██▊       | 2/7 [23:15<57:57, 695.58s/it]  "
     ]
    },
    {
     "name": "stdout",
     "output_type": "stream",
     "text": [
      "Validation Accuracy: 0.7327652575587906\n",
      "Train loss: 0.4085918693180898\n"
     ]
    },
    {
     "name": "stderr",
     "output_type": "stream",
     "text": [
      "\r",
      "Epoch:  43%|████▎     | 3/7 [34:58<46:31, 697.77s/it]"
     ]
    },
    {
     "name": "stdout",
     "output_type": "stream",
     "text": [
      "Validation Accuracy: 0.7301056830907054\n",
      "Train loss: 0.2942394915067754\n"
     ]
    },
    {
     "name": "stderr",
     "output_type": "stream",
     "text": [
      "\r",
      "Epoch:  57%|█████▋    | 4/7 [46:41<34:58, 699.42s/it]"
     ]
    },
    {
     "name": "stdout",
     "output_type": "stream",
     "text": [
      "Validation Accuracy: 0.7316454367301232\n",
      "Train loss: 0.21810067633069805\n"
     ]
    },
    {
     "name": "stderr",
     "output_type": "stream",
     "text": [
      "\r",
      "Epoch:  71%|███████▏  | 5/7 [58:24<23:21, 700.62s/it]"
     ]
    },
    {
     "name": "stdout",
     "output_type": "stream",
     "text": [
      "Validation Accuracy: 0.7346782848077641\n",
      "Train loss: 0.17509944125197793\n"
     ]
    },
    {
     "name": "stderr",
     "output_type": "stream",
     "text": [
      "\r",
      "Epoch:  86%|████████▌ | 6/7 [1:10:07<11:41, 701.33s/it]"
     ]
    },
    {
     "name": "stdout",
     "output_type": "stream",
     "text": [
      "Validation Accuracy: 0.7374603396789847\n",
      "Train loss: 0.14906363325608427\n"
     ]
    },
    {
     "name": "stderr",
     "output_type": "stream",
     "text": [
      "Epoch: 100%|██████████| 7/7 [1:21:50<00:00, 701.57s/it]"
     ]
    },
    {
     "name": "stdout",
     "output_type": "stream",
     "text": [
      "Validation Accuracy: 0.7350515584173198\n"
     ]
    },
    {
     "name": "stderr",
     "output_type": "stream",
     "text": [
      "\n"
     ]
    },
    {
     "data": {
      "image/png": "[encoded data removed]",
      "text/plain": [
       "<Figure size 1080x576 with 1 Axes>"
      ]
     },
     "metadata": {
      "needs_background": "light",
      "tags": []
     },
     "output_type": "display_data"
    }
   ],
   "source": [
    "# Dražen\n",
    "train(model, learningRate, numberOfEpoches)"
   ]
  },
  {
   "cell_type": "code",
   "execution_count": null,
   "id": "7cjy3VSvSkeA",
   "metadata": {
    "id": "7cjy3VSvSkeA"
   },
   "outputs": [],
   "source": [
    "# Anotnio\n",
    "def test(model, batchSize):\n",
    "  testDataLoader = DataLoader(testData, sampler=testSampler, batch_size=batchSize)\n",
    "\n",
    "  model.eval()\n",
    "\n",
    "  predictions, labels = [], []\n",
    " \n",
    "  for batch in testDataLoader:\n",
    "\n",
    "    batch = tuple(b.to(device) for b in batch)\n",
    "    batchInput, batchInputMask, batchLabels = batch\n",
    "\n",
    "    with torch.no_grad():\n",
    "      logits = model(batchInput, token_type_ids=None, attention_mask=batchInputMask)\n",
    " \n",
    "    logits = logits.detach().cpu().numpy()\n",
    "    labelStep = batchLabels.to('cpu').numpy()  \n",
    "    predictions.append(logits)\n",
    "    labels.append(labelStep)\n",
    "    \n",
    "\n",
    "  flatPredictions = [item for sublist in predictions for item in sublist]\n",
    "  flatPredictions = np.argmax(flatPredictions, axis=1).flatten()\n",
    "  flatLabels = [item for sublist in labels for item in sublist]\n",
    "  \n",
    "  return flatPredictions, flatLabels, len([i for i in range(len(flatPredictions)) if flatPredictions[i] == flatLabels[i]])/len(flatLabels)\n"
   ]
  },
  {
   "cell_type": "code",
   "execution_count": null,
   "id": "PtDTInRQVrba",
   "metadata": {
    "colab": {
     "base_uri": "https://localhost:8080/"
    },
    "executionInfo": {
     "elapsed": 24530,
     "status": "ok",
     "timestamp": 1624438858599,
     "user": {
      "displayName": "Antonio Vidakovic",
      "photoUrl": "",
      "userId": "13949433846202004139"
     },
     "user_tz": -120
    },
    "id": "PtDTInRQVrba",
    "outputId": "c8afe39a-2b5b-422a-c44f-c47c96d064cd"
   },
   "outputs": [
    {
     "name": "stdout",
     "output_type": "stream",
     "text": [
      "0.7350883038987004\n"
     ]
    }
   ],
   "source": [
    "# Anotnio\n",
    "flatPredictions, flatLabels, acc = test(model, batchSize)\n",
    "print(acc)\n",
    "confusionMatrix = confusion_matrix(flatLabels, flatPredictions)"
   ]
  },
  {
   "cell_type": "code",
   "execution_count": null,
   "id": "4xopLUy7H7Bv",
   "metadata": {
    "id": "4xopLUy7H7Bv"
   },
   "outputs": [],
   "source": [
    "# Dražen\n",
    "def printConfusionMatrix(confusionMatrix, normalised=False):\n",
    "  df_cm = pd.DataFrame(confusionMatrix, index = ['positive', 'neutral', 'negative'], columns = ['positive', 'neutral', 'negative'])\n",
    "  plt.figure(figsize = (10,7))\n",
    "  if(normalised):\n",
    "    ax = sn.heatmap(df_cm, annot=True, cmap='Blues', fmt='g')\n",
    "    for t in ax.texts: t.set_text(t.get_text() + \" %\")\n",
    "  else:\n",
    "    sn.heatmap(df_cm, annot=True, cmap='Blues', fmt='g')\n",
    "  plt.show()"
   ]
  },
  {
   "cell_type": "code",
   "execution_count": null,
   "id": "w3iAmP9cUGof",
   "metadata": {
    "id": "w3iAmP9cUGof"
   },
   "outputs": [],
   "source": [
    "# Dražen\n",
    "def normaliseMatrix(confusionMatrix):\n",
    "  normalisedMatrixConfusion = []\n",
    "  for i in confusionMatrix:\n",
    "    rowToAdd = []\n",
    "    rowSum = sum(i)\n",
    "    for j in i:\n",
    "      rowToAdd.append(round(100*j/rowSum,2))\n",
    "    normalisedMatrixConfusion.append(rowToAdd)\n",
    "  return normalisedMatrixConfusion"
   ]
  },
  {
   "cell_type": "code",
   "execution_count": null,
   "id": "5p980f62TDMl",
   "metadata": {
    "colab": {
     "base_uri": "https://localhost:8080/",
     "height": 428
    },
    "executionInfo": {
     "elapsed": 71,
     "status": "ok",
     "timestamp": 1624438858615,
     "user": {
      "displayName": "Antonio Vidakovic",
      "photoUrl": "",
      "userId": "13949433846202004139"
     },
     "user_tz": -120
    },
    "id": "5p980f62TDMl",
    "outputId": "b2180834-55c7-45c4-a526-3799ee69b14f"
   },
   "outputs": [
    {
     "data": {
      "image/png": "[encoded data removed]",
      "text/plain": [
       "<Figure size 720x504 with 2 Axes>"
      ]
     },
     "metadata": {
      "needs_background": "light",
      "tags": []
     },
     "output_type": "display_data"
    }
   ],
   "source": [
    "# Dražen\n",
    "printConfusionMatrix(confusionMatrix)"
   ]
  },
  {
   "cell_type": "code",
   "execution_count": null,
   "id": "cqsum6o-LNox",
   "metadata": {
    "colab": {
     "base_uri": "https://localhost:8080/",
     "height": 428
    },
    "executionInfo": {
     "elapsed": 64,
     "status": "ok",
     "timestamp": 1624438858617,
     "user": {
      "displayName": "Antonio Vidakovic",
      "photoUrl": "",
      "userId": "13949433846202004139"
     },
     "user_tz": -120
    },
    "id": "cqsum6o-LNox",
    "outputId": "07a9704f-4f1b-472d-dfca-51182799137c"
   },
   "outputs": [
    {
     "data": {
      "image/png": "[encoded data removed]",
      "text/plain": [
       "<Figure size 720x504 with 2 Axes>"
      ]
     },
     "metadata": {
      "needs_background": "light",
      "tags": []
     },
     "output_type": "display_data"
    }
   ],
   "source": [
    "# Dražen\n",
    "printConfusionMatrix(normaliseMatrix(confusionMatrix), True)"
   ]
  },
  {
   "cell_type": "code",
   "execution_count": 20,
   "id": "t9UShgKn0gwI",
   "metadata": {
    "executionInfo": {
     "elapsed": 254,
     "status": "ok",
     "timestamp": 1624458603295,
     "user": {
      "displayName": "Antonio Vidakovic",
      "photoUrl": "",
      "userId": "13949433846202004139"
     },
     "user_tz": -120
    },
    "id": "t9UShgKn0gwI"
   },
   "outputs": [],
   "source": [
    "# Antonio\n",
    "def predict(sentence, maxLen, batchSize):\n",
    "  sentence = addBertTokensToSent(sentence)\n",
    "  tokenizedSentence = tokenizer([sentence])\n",
    "  modelInput = padding(maxLen, tokenizedSentence)\n",
    "  attentionMasks = createAttentionMask(modelInput)\n",
    "  \n",
    "  testInputs = torch.tensor(modelInput)\n",
    "  testMasks = torch.tensor(attentionMasks)\n",
    "  testLabels = torch.tensor([0]) \n",
    "  testData = TensorDataset(testInputs, testMasks, testLabels)\n",
    "  testSampler = SequentialSampler(testData)\n",
    "  testDataLoader = DataLoader(testData, sampler=testSampler, batch_size=batchSize)\n",
    "  model.eval()\n",
    "  predictions = []\n",
    "  for batch in testDataLoader:\n",
    "    batch = tuple(b.to(device) for b in batch)\n",
    "    batchInput, batchInputMask, batchLabels = batch\n",
    "    with torch.no_grad():\n",
    "      logits = model(batchInput, token_type_ids=None, attention_mask=batchInputMask)\n",
    "    logits = logits.detach().cpu().numpy()\n",
    "    predictions.append(logits)\n",
    "    result = np.argmax(predictions[0][0])\n",
    "    if result == 0:\n",
    "      return 'positive'\n",
    "    elif result == 1:\n",
    "      return 'neutral'\n",
    "    else:\n",
    "      return 'negative'"
   ]
  },
  {
   "cell_type": "code",
   "execution_count": 25,
   "id": "7ObH3ma7bwil",
   "metadata": {
    "executionInfo": {
     "elapsed": 253,
     "status": "ok",
     "timestamp": 1624458624222,
     "user": {
      "displayName": "Antonio Vidakovic",
      "photoUrl": "",
      "userId": "13949433846202004139"
     },
     "user_tz": -120
    },
    "id": "7ObH3ma7bwil"
   },
   "outputs": [],
   "source": [
    "# Antonio\n",
    "def on_button_clicked(b):\n",
    "  result.value = \"Prediction: \" + predict(stringToPredict.value, maxLen, batchSize)\n",
    "  #print(predict(stringToPredict.value, maxLen, batchSize))"
   ]
  },
  {
   "cell_type": "code",
   "execution_count": 22,
   "id": "GeB8jUDW8_dD",
   "metadata": {
    "executionInfo": {
     "elapsed": 10,
     "status": "ok",
     "timestamp": 1624458610672,
     "user": {
      "displayName": "Antonio Vidakovic",
      "photoUrl": "",
      "userId": "13949433846202004139"
     },
     "user_tz": -120
    },
    "id": "GeB8jUDW8_dD"
   },
   "outputs": [],
   "source": [
    "# Antonio\n",
    "stringToPredict = widgets.Textarea(\n",
    "    value=\"\",\n",
    "    placeholder='Sentence to predict',\n",
    "    description='Sentence:',\n",
    "    disabled=False,\n",
    "    layout=Layout(width='80%', height='150px')\n",
    ")\n",
    "result = widgets.Label(\"Prediction: \", layout=Layout(margin='0px 0px 0px 25px'))"
   ]
  },
  {
   "cell_type": "code",
   "execution_count": 27,
   "id": "kdvVYcPO9GQV",
   "metadata": {
    "executionInfo": {
     "elapsed": 289,
     "status": "ok",
     "timestamp": 1624458633316,
     "user": {
      "displayName": "Antonio Vidakovic",
      "photoUrl": "",
      "userId": "13949433846202004139"
     },
     "user_tz": -120
    },
    "id": "kdvVYcPO9GQV"
   },
   "outputs": [],
   "source": [
    "# Antonio\n",
    "button = widgets.Button(description=\"Predict!\",layout=Layout(margin='20px 0px 20px 25px'))\n",
    "button.on_click(on_button_clicked)"
   ]
  },
  {
   "cell_type": "code",
   "execution_count": 28,
   "id": "306GSCdi-UfQ",
   "metadata": {
    "colab": {
     "base_uri": "https://localhost:8080/",
     "height": 267,
     "referenced_widgets": [
      "57150fe829df4bbc906310665c3aff50",
      "bd0a45cf27b24b0eb9987c8f220967e2",
      "49fd362a52f54d79ae1c95df29c812b7",
      "8ddf5bc34eee4c8f9ccf6bffdc518168",
      "4574c385393c430ab0426b834c17ffad",
      "c54fcf80771d42318a324ec0ca51d0df",
      "9e4eeea4dd9f4a529563103ff41d017b",
      "c02322e615cd4ebe8f9a0b2607c432da",
      "19f841621fdb47399a1aa8278df3edef"
     ]
    },
    "executionInfo": {
     "elapsed": 15,
     "status": "ok",
     "timestamp": 1624458634651,
     "user": {
      "displayName": "Antonio Vidakovic",
      "photoUrl": "",
      "userId": "13949433846202004139"
     },
     "user_tz": -120
    },
    "id": "306GSCdi-UfQ",
    "outputId": "9a389e88-b04e-4b28-ad8a-11d6227a57ad"
   },
   "outputs": [
    {
     "data": {
      "application/vnd.jupyter.widget-view+json": {
       "model_id": "57150fe829df4bbc906310665c3aff50",
       "version_major": 2,
       "version_minor": 0
      },
      "text/plain": [
       "Textarea(value='sad', description='Sentence:', layout=Layout(height='150px', width='80%'), placeholder='Senten…"
      ]
     },
     "metadata": {
      "tags": []
     },
     "output_type": "display_data"
    },
    {
     "data": {
      "application/vnd.jupyter.widget-view+json": {
       "model_id": "8ddf5bc34eee4c8f9ccf6bffdc518168",
       "version_major": 2,
       "version_minor": 0
      },
      "text/plain": [
       "Button(description='Predict!', layout=Layout(margin='20px 0px 20px 25px'), style=ButtonStyle())"
      ]
     },
     "metadata": {
      "tags": []
     },
     "output_type": "display_data"
    },
    {
     "data": {
      "application/vnd.jupyter.widget-view+json": {
       "model_id": "9e4eeea4dd9f4a529563103ff41d017b",
       "version_major": 2,
       "version_minor": 0
      },
      "text/plain": [
       "Label(value='Result: negative', layout=Layout(margin='0px 0px 0px 25px'))"
      ]
     },
     "metadata": {
      "tags": []
     },
     "output_type": "display_data"
    }
   ],
   "source": [
    "display(stringToPredict)\n",
    "display(button)\n",
    "display(result)"
   ]
  },
  {
   "cell_type": "code",
   "execution_count": null,
   "id": "KbiN0J6_miC2",
   "metadata": {
    "id": "KbiN0J6_miC2"
   },
   "outputs": [],
   "source": [
    "saveModel(model, outputModelFile, outputConfigFile)"
   ]
  }
 ],
 "metadata": {
  "accelerator": "GPU",
  "colab": {
   "collapsed_sections": [],
   "name": "model.ipynb",
   "provenance": [],
   "toc_visible": true
  },
  "kernelspec": {
   "display_name": "Python 3",
   "language": "python",
   "name": "python3"
  },
  "language_info": {
   "codemirror_mode": {
    "name": "ipython",
    "version": 3
   },
   "file_extension": ".py",
   "mimetype": "text/x-python",
   "name": "python",
   "nbconvert_exporter": "python",
   "pygments_lexer": "ipython3",
   "version": "3.8.10"
  },
  "widgets": {
   "application/vnd.jupyter.widget-state+json": {
    "19f841621fdb47399a1aa8278df3edef": {
     "model_module": "@jupyter-widgets/base",
     "model_name": "LayoutModel",
     "state": {
      "_model_module": "@jupyter-widgets/base",
      "_model_module_version": "1.2.0",
      "_model_name": "LayoutModel",
      "_view_count": null,
      "_view_module": "@jupyter-widgets/base",
      "_view_module_version": "1.2.0",
      "_view_name": "LayoutView",
      "align_content": null,
      "align_items": null,
      "align_self": null,
      "border": null,
      "bottom": null,
      "display": null,
      "flex": null,
      "flex_flow": null,
      "grid_area": null,
      "grid_auto_columns": null,
      "grid_auto_flow": null,
      "grid_auto_rows": null,
      "grid_column": null,
      "grid_gap": null,
      "grid_row": null,
      "grid_template_areas": null,
      "grid_template_columns": null,
      "grid_template_rows": null,
      "height": null,
      "justify_content": null,
      "justify_items": null,
      "left": null,
      "margin": "0px 0px 0px 25px",
      "max_height": null,
      "max_width": null,
      "min_height": null,
      "min_width": null,
      "object_fit": null,
      "object_position": null,
      "order": null,
      "overflow": null,
      "overflow_x": null,
      "overflow_y": null,
      "padding": null,
      "right": null,
      "top": null,
      "visibility": null,
      "width": null
     }
    },
    "4574c385393c430ab0426b834c17ffad": {
     "model_module": "@jupyter-widgets/controls",
     "model_name": "ButtonStyleModel",
     "state": {
      "_model_module": "@jupyter-widgets/controls",
      "_model_module_version": "1.5.0",
      "_model_name": "ButtonStyleModel",
      "_view_count": null,
      "_view_module": "@jupyter-widgets/base",
      "_view_module_version": "1.2.0",
      "_view_name": "StyleView",
      "button_color": null,
      "font_weight": ""
     }
    },
    "49fd362a52f54d79ae1c95df29c812b7": {
     "model_module": "@jupyter-widgets/base",
     "model_name": "LayoutModel",
     "state": {
      "_model_module": "@jupyter-widgets/base",
      "_model_module_version": "1.2.0",
      "_model_name": "LayoutModel",
      "_view_count": null,
      "_view_module": "@jupyter-widgets/base",
      "_view_module_version": "1.2.0",
      "_view_name": "LayoutView",
      "align_content": null,
      "align_items": null,
      "align_self": null,
      "border": null,
      "bottom": null,
      "display": null,
      "flex": null,
      "flex_flow": null,
      "grid_area": null,
      "grid_auto_columns": null,
      "grid_auto_flow": null,
      "grid_auto_rows": null,
      "grid_column": null,
      "grid_gap": null,
      "grid_row": null,
      "grid_template_areas": null,
      "grid_template_columns": null,
      "grid_template_rows": null,
      "height": "150px",
      "justify_content": null,
      "justify_items": null,
      "left": null,
      "margin": null,
      "max_height": null,
      "max_width": null,
      "min_height": null,
      "min_width": null,
      "object_fit": null,
      "object_position": null,
      "order": null,
      "overflow": null,
      "overflow_x": null,
      "overflow_y": null,
      "padding": null,
      "right": null,
      "top": null,
      "visibility": null,
      "width": "80%"
     }
    },
    "57150fe829df4bbc906310665c3aff50": {
     "model_module": "@jupyter-widgets/controls",
     "model_name": "TextareaModel",
     "state": {
      "_dom_classes": [],
      "_model_module": "@jupyter-widgets/controls",
      "_model_module_version": "1.5.0",
      "_model_name": "TextareaModel",
      "_view_count": null,
      "_view_module": "@jupyter-widgets/controls",
      "_view_module_version": "1.5.0",
      "_view_name": "TextareaView",
      "continuous_update": true,
      "description": "Sentence:",
      "description_tooltip": null,
      "disabled": false,
      "layout": "IPY_MODEL_49fd362a52f54d79ae1c95df29c812b7",
      "placeholder": "Sentence to predict",
      "rows": null,
      "style": "IPY_MODEL_bd0a45cf27b24b0eb9987c8f220967e2",
      "value": "best"
     }
    },
    "8ddf5bc34eee4c8f9ccf6bffdc518168": {
     "model_module": "@jupyter-widgets/controls",
     "model_name": "ButtonModel",
     "state": {
      "_dom_classes": [],
      "_model_module": "@jupyter-widgets/controls",
      "_model_module_version": "1.5.0",
      "_model_name": "ButtonModel",
      "_view_count": null,
      "_view_module": "@jupyter-widgets/controls",
      "_view_module_version": "1.5.0",
      "_view_name": "ButtonView",
      "button_style": "",
      "description": "Predict!",
      "disabled": false,
      "icon": "",
      "layout": "IPY_MODEL_c54fcf80771d42318a324ec0ca51d0df",
      "style": "IPY_MODEL_4574c385393c430ab0426b834c17ffad",
      "tooltip": ""
     }
    },
    "9e4eeea4dd9f4a529563103ff41d017b": {
     "model_module": "@jupyter-widgets/controls",
     "model_name": "LabelModel",
     "state": {
      "_dom_classes": [],
      "_model_module": "@jupyter-widgets/controls",
      "_model_module_version": "1.5.0",
      "_model_name": "LabelModel",
      "_view_count": null,
      "_view_module": "@jupyter-widgets/controls",
      "_view_module_version": "1.5.0",
      "_view_name": "LabelView",
      "description": "",
      "description_tooltip": null,
      "layout": "IPY_MODEL_19f841621fdb47399a1aa8278df3edef",
      "placeholder": "​",
      "style": "IPY_MODEL_c02322e615cd4ebe8f9a0b2607c432da",
      "value": "Prediction: positive"
     }
    },
    "bd0a45cf27b24b0eb9987c8f220967e2": {
     "model_module": "@jupyter-widgets/controls",
     "model_name": "DescriptionStyleModel",
     "state": {
      "_model_module": "@jupyter-widgets/controls",
      "_model_module_version": "1.5.0",
      "_model_name": "DescriptionStyleModel",
      "_view_count": null,
      "_view_module": "@jupyter-widgets/base",
      "_view_module_version": "1.2.0",
      "_view_name": "StyleView",
      "description_width": ""
     }
    },
    "c02322e615cd4ebe8f9a0b2607c432da": {
     "model_module": "@jupyter-widgets/controls",
     "model_name": "DescriptionStyleModel",
     "state": {
      "_model_module": "@jupyter-widgets/controls",
      "_model_module_version": "1.5.0",
      "_model_name": "DescriptionStyleModel",
      "_view_count": null,
      "_view_module": "@jupyter-widgets/base",
      "_view_module_version": "1.2.0",
      "_view_name": "StyleView",
      "description_width": ""
     }
    },
    "c54fcf80771d42318a324ec0ca51d0df": {
     "model_module": "@jupyter-widgets/base",
     "model_name": "LayoutModel",
     "state": {
      "_model_module": "@jupyter-widgets/base",
      "_model_module_version": "1.2.0",
      "_model_name": "LayoutModel",
      "_view_count": null,
      "_view_module": "@jupyter-widgets/base",
      "_view_module_version": "1.2.0",
      "_view_name": "LayoutView",
      "align_content": null,
      "align_items": null,
      "align_self": null,
      "border": null,
      "bottom": null,
      "display": null,
      "flex": null,
      "flex_flow": null,
      "grid_area": null,
      "grid_auto_columns": null,
      "grid_auto_flow": null,
      "grid_auto_rows": null,
      "grid_column": null,
      "grid_gap": null,
      "grid_row": null,
      "grid_template_areas": null,
      "grid_template_columns": null,
      "grid_template_rows": null,
      "height": null,
      "justify_content": null,
      "justify_items": null,
      "left": null,
      "margin": "20px 0px 20px 25px",
      "max_height": null,
      "max_width": null,
      "min_height": null,
      "min_width": null,
      "object_fit": null,
      "object_position": null,
      "order": null,
      "overflow": null,
      "overflow_x": null,
      "overflow_y": null,
      "padding": null,
      "right": null,
      "top": null,
      "visibility": null,
      "width": null
     }
    }
   }
  }
 },
 "nbformat": 4,
 "nbformat_minor": 5
}
